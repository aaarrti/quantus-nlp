{
 "cells": [
  {
   "cell_type": "code",
   "execution_count": 1,
   "outputs": [],
   "source": [
    "import tensorflow as tf\n",
    "import json\n",
    "\n",
    "from quantus_nlp.xai import explain_lime\n",
    "from quantus_nlp.xai.metric import relative_input_stability\n",
    "from quantus_nlp.models.bert import pre_process_model\n",
    "import pandas as pd\n",
    "import nlpaug.augmenter.word as naw\n",
    "from quantus_nlp.data.pre_processing import remove_punctuation"
   ],
   "metadata": {
    "collapsed": false,
    "pycharm": {
     "name": "#%%\n"
    }
   }
  },
  {
   "cell_type": "code",
   "execution_count": 2,
   "outputs": [
    {
     "data": {
      "text/plain": "'CHARLOTTE N C Sports Network Carolina Panthers running back Stephen Davis will miss the remainder of the season after being placed on injured reserve Saturday '"
     },
     "execution_count": 2,
     "metadata": {},
     "output_type": "execute_result"
    }
   ],
   "source": [
    "text = 'CHARLOTTE, N.C. (Sports Network) - Carolina Panthers  running back Stephen Davis will miss the remainder of the  season after being placed on injured reserve Saturday.'\n",
    "\n",
    "text = remove_punctuation(text)\n",
    "text"
   ],
   "metadata": {
    "collapsed": false,
    "pycharm": {
     "name": "#%%\n"
    }
   }
  },
  {
   "cell_type": "code",
   "execution_count": 3,
   "outputs": [],
   "source": [
    "pm = pre_process_model()\n",
    "transformer = tf.saved_model.load(\"/Users/artemsereda/Documents/PycharmProjects/quantus-nlp/model/encoder\")\n",
    "metadata = tf.io.read_file(\"/Users/artemsereda/Documents/PycharmProjects/quantus-nlp/dataset/metadata.json\").numpy()\n",
    "metadata = json.loads(metadata)"
   ],
   "metadata": {
    "collapsed": false,
    "pycharm": {
     "name": "#%%\n"
    }
   }
  },
  {
   "cell_type": "markdown",
   "source": [
    "## Lime"
   ],
   "metadata": {
    "collapsed": false,
    "pycharm": {
     "name": "#%% md\n"
    }
   }
  },
  {
   "cell_type": "code",
   "execution_count": 4,
   "outputs": [],
   "source": [
    "t, s = explain_lime(\n",
    "    pre_process_model=pm,\n",
    "    transformer=transformer,\n",
    "    class_names=metadata[\"class_names\"],\n",
    "    example=text\n",
    ")"
   ],
   "metadata": {
    "collapsed": false,
    "pycharm": {
     "name": "#%%\n"
    }
   }
  },
  {
   "cell_type": "code",
   "execution_count": 5,
   "outputs": [
    {
     "data": {
      "text/plain": "       tokens  salience\n0   CHARLOTTE -0.006918\n1           N  0.020776\n2           C  0.070118\n3      Sports  0.086014\n4     Network  0.024156\n5    Carolina  0.066801\n6    Panthers  0.194583\n7     running  0.018657\n8        back  0.018698\n9     Stephen  0.027212\n10      Davis  0.029971\n11       will  0.009266\n12       miss  0.017295\n13        the  0.026692\n14  remainder  0.036754\n15         of -0.019091\n16        the  0.078493\n17     season  0.017832\n18      after  0.046726\n19      being  0.040390\n20     placed  0.032211\n21         on  0.025748\n22    injured  0.013920\n23    reserve  0.026263\n24   Saturday  0.045413",
      "text/html": "<div>\n<style scoped>\n    .dataframe tbody tr th:only-of-type {\n        vertical-align: middle;\n    }\n\n    .dataframe tbody tr th {\n        vertical-align: top;\n    }\n\n    .dataframe thead th {\n        text-align: right;\n    }\n</style>\n<table border=\"1\" class=\"dataframe\">\n  <thead>\n    <tr style=\"text-align: right;\">\n      <th></th>\n      <th>tokens</th>\n      <th>salience</th>\n    </tr>\n  </thead>\n  <tbody>\n    <tr>\n      <th>0</th>\n      <td>CHARLOTTE</td>\n      <td>-0.006918</td>\n    </tr>\n    <tr>\n      <th>1</th>\n      <td>N</td>\n      <td>0.020776</td>\n    </tr>\n    <tr>\n      <th>2</th>\n      <td>C</td>\n      <td>0.070118</td>\n    </tr>\n    <tr>\n      <th>3</th>\n      <td>Sports</td>\n      <td>0.086014</td>\n    </tr>\n    <tr>\n      <th>4</th>\n      <td>Network</td>\n      <td>0.024156</td>\n    </tr>\n    <tr>\n      <th>5</th>\n      <td>Carolina</td>\n      <td>0.066801</td>\n    </tr>\n    <tr>\n      <th>6</th>\n      <td>Panthers</td>\n      <td>0.194583</td>\n    </tr>\n    <tr>\n      <th>7</th>\n      <td>running</td>\n      <td>0.018657</td>\n    </tr>\n    <tr>\n      <th>8</th>\n      <td>back</td>\n      <td>0.018698</td>\n    </tr>\n    <tr>\n      <th>9</th>\n      <td>Stephen</td>\n      <td>0.027212</td>\n    </tr>\n    <tr>\n      <th>10</th>\n      <td>Davis</td>\n      <td>0.029971</td>\n    </tr>\n    <tr>\n      <th>11</th>\n      <td>will</td>\n      <td>0.009266</td>\n    </tr>\n    <tr>\n      <th>12</th>\n      <td>miss</td>\n      <td>0.017295</td>\n    </tr>\n    <tr>\n      <th>13</th>\n      <td>the</td>\n      <td>0.026692</td>\n    </tr>\n    <tr>\n      <th>14</th>\n      <td>remainder</td>\n      <td>0.036754</td>\n    </tr>\n    <tr>\n      <th>15</th>\n      <td>of</td>\n      <td>-0.019091</td>\n    </tr>\n    <tr>\n      <th>16</th>\n      <td>the</td>\n      <td>0.078493</td>\n    </tr>\n    <tr>\n      <th>17</th>\n      <td>season</td>\n      <td>0.017832</td>\n    </tr>\n    <tr>\n      <th>18</th>\n      <td>after</td>\n      <td>0.046726</td>\n    </tr>\n    <tr>\n      <th>19</th>\n      <td>being</td>\n      <td>0.040390</td>\n    </tr>\n    <tr>\n      <th>20</th>\n      <td>placed</td>\n      <td>0.032211</td>\n    </tr>\n    <tr>\n      <th>21</th>\n      <td>on</td>\n      <td>0.025748</td>\n    </tr>\n    <tr>\n      <th>22</th>\n      <td>injured</td>\n      <td>0.013920</td>\n    </tr>\n    <tr>\n      <th>23</th>\n      <td>reserve</td>\n      <td>0.026263</td>\n    </tr>\n    <tr>\n      <th>24</th>\n      <td>Saturday</td>\n      <td>0.045413</td>\n    </tr>\n  </tbody>\n</table>\n</div>"
     },
     "execution_count": 5,
     "metadata": {},
     "output_type": "execute_result"
    }
   ],
   "source": [
    "df = pd.DataFrame()\n",
    "df['tokens'] = t\n",
    "df['salience'] = s\n",
    "pd = df.sort_values(by='salience', ascending=False)\n",
    "df"
   ],
   "metadata": {
    "collapsed": false,
    "pycharm": {
     "name": "#%%\n"
    }
   }
  },
  {
   "cell_type": "markdown",
   "source": [
    "### Relative Input Stability as per [arxiv](https://arxiv.org/pdf/2203.06877.pdf)"
   ],
   "metadata": {
    "collapsed": false,
    "pycharm": {
     "name": "#%% md\n"
    }
   }
  },
  {
   "cell_type": "code",
   "execution_count": 6,
   "outputs": [
    {
     "data": {
      "text/plain": "'CHARLOTTE N C Sports Netwok Carolina Panthers running back Sthepen Davis will miss tthe remainder OK then seaon after being placed on injured reserv Satday'"
     },
     "execution_count": 6,
     "metadata": {},
     "output_type": "execute_result"
    }
   ],
   "source": [
    "aug = naw.SpellingAug()\n",
    "augmented_text = aug.augment(text, n=1)[0]\n",
    "augmented_text = remove_punctuation(augmented_text)\n",
    "augmented_text"
   ],
   "metadata": {
    "collapsed": false,
    "pycharm": {
     "name": "#%%\n"
    }
   }
  },
  {
   "cell_type": "code",
   "execution_count": 7,
   "outputs": [
    {
     "data": {
      "text/plain": "0.8010517222747249"
     },
     "execution_count": 7,
     "metadata": {},
     "output_type": "execute_result"
    }
   ],
   "source": [
    "_, e = explain_lime(\n",
    "    pm,\n",
    "    transformer,\n",
    "    metadata['class_names'],\n",
    "    text\n",
    ")\n",
    "\n",
    "_, es = explain_lime(\n",
    "    pm,\n",
    "    transformer,\n",
    "    metadata['class_names'],\n",
    "    augmented_text\n",
    ")\n",
    "\n",
    "x = pm([text])['input_word_ids']\n",
    "x = x.numpy()[0]\n",
    "x = x[:len(e)]\n",
    "\n",
    "xs = pm([augmented_text])['input_word_ids']\n",
    "xs = xs.numpy()[0]\n",
    "xs = xs[:len(es)]\n",
    "\n",
    "ris = relative_input_stability(\n",
    "    x, xs,\n",
    "    e, es\n",
    ")\n",
    "ris"
   ],
   "metadata": {
    "collapsed": false,
    "pycharm": {
     "name": "#%%\n"
    }
   }
  }
 ],
 "metadata": {
  "kernelspec": {
   "display_name": "Python 3",
   "language": "python",
   "name": "python3"
  },
  "language_info": {
   "codemirror_mode": {
    "name": "ipython",
    "version": 2
   },
   "file_extension": ".py",
   "mimetype": "text/x-python",
   "name": "python",
   "nbconvert_exporter": "python",
   "pygments_lexer": "ipython2",
   "version": "2.7.6"
  }
 },
 "nbformat": 4,
 "nbformat_minor": 0
}