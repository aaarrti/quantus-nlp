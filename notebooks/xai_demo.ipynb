{
 "cells": [
  {
   "cell_type": "code",
   "execution_count": 2,
   "outputs": [],
   "source": [
    "import tensorflow as tf\n",
    "import json\n",
    "\n",
    "from quantus_nlp.xai import explain_lime\n",
    "from quantus_nlp.models.bert import pre_process_model\n",
    "import pandas as pd"
   ],
   "metadata": {
    "collapsed": false,
    "pycharm": {
     "name": "#%%\n"
    }
   }
  },
  {
   "cell_type": "code",
   "execution_count": 3,
   "outputs": [],
   "source": [
    "pm = pre_process_model()\n",
    "transformer = tf.saved_model.load(\"/Users/artemsereda/Documents/PycharmProjects/quantus-nlp/model/encoder\")\n",
    "metadata = tf.io.read_file(\"/Users/artemsereda/Documents/PycharmProjects/quantus-nlp/dataset/metadata.json\").numpy()\n",
    "metadata = json.loads(metadata)"
   ],
   "metadata": {
    "collapsed": false,
    "pycharm": {
     "name": "#%%\n"
    }
   }
  },
  {
   "cell_type": "markdown",
   "source": [
    "## Lime"
   ],
   "metadata": {
    "collapsed": false,
    "pycharm": {
     "name": "#%% md\n"
    }
   }
  },
  {
   "cell_type": "code",
   "execution_count": 5,
   "outputs": [
    {
     "name": "stdout",
     "output_type": "stream",
     "text": [
      "lime_results = {'text': TokenSalience(tokens=['CHARLOTTE,', 'N.C.', '(Sports', 'Network)', '-', 'Carolina', 'Panthers', 'running', 'back', 'Stephen', 'Davis', 'will', 'miss', 'the', 'remainder', 'of', 'the', 'season', 'after', 'being', 'placed', 'on', 'injured', 'reserve', 'Saturday.'], salience=array([ 0.01920275,  0.04017124,  0.06288767,  0.02580933,  0.03274661,\n",
      "        0.01737787,  0.17715328,  0.04025989,  0.03406698,  0.04671313,\n",
      "        0.03589331, -0.00890663,  0.04214633, -0.02830127,  0.02846841,\n",
      "        0.04686571,  0.01946567,  0.06390325,  0.03857801,  0.02743165,\n",
      "        0.02177022,  0.04524215,  0.03812085,  0.02106085,  0.03745696]))}\n"
     ]
    }
   ],
   "source": [
    "t, s = explain_lime(\n",
    "    pre_process_model=pm,\n",
    "    transformer=transformer,\n",
    "    class_names=metadata[\"class_names\"],\n",
    "    example='CHARLOTTE, N.C. (Sports Network) - Carolina Panthers  running back Stephen Davis will miss the remainder of the  season after being placed on injured reserve Saturday.',\n",
    ")"
   ],
   "metadata": {
    "collapsed": false,
    "pycharm": {
     "name": "#%%\n"
    }
   }
  },
  {
   "cell_type": "code",
   "execution_count": 6,
   "outputs": [
    {
     "data": {
      "text/plain": "        tokens  salience\n0   CHARLOTTE,  0.019203\n1         N.C.  0.040171\n2      (Sports  0.062888\n3     Network)  0.025809\n4            -  0.032747\n5     Carolina  0.017378\n6     Panthers  0.177153\n7      running  0.040260\n8         back  0.034067\n9      Stephen  0.046713\n10       Davis  0.035893\n11        will -0.008907\n12        miss  0.042146\n13         the -0.028301\n14   remainder  0.028468\n15          of  0.046866\n16         the  0.019466\n17      season  0.063903\n18       after  0.038578\n19       being  0.027432\n20      placed  0.021770\n21          on  0.045242\n22     injured  0.038121\n23     reserve  0.021061\n24   Saturday.  0.037457",
      "text/html": "<div>\n<style scoped>\n    .dataframe tbody tr th:only-of-type {\n        vertical-align: middle;\n    }\n\n    .dataframe tbody tr th {\n        vertical-align: top;\n    }\n\n    .dataframe thead th {\n        text-align: right;\n    }\n</style>\n<table border=\"1\" class=\"dataframe\">\n  <thead>\n    <tr style=\"text-align: right;\">\n      <th></th>\n      <th>tokens</th>\n      <th>salience</th>\n    </tr>\n  </thead>\n  <tbody>\n    <tr>\n      <th>0</th>\n      <td>CHARLOTTE,</td>\n      <td>0.019203</td>\n    </tr>\n    <tr>\n      <th>1</th>\n      <td>N.C.</td>\n      <td>0.040171</td>\n    </tr>\n    <tr>\n      <th>2</th>\n      <td>(Sports</td>\n      <td>0.062888</td>\n    </tr>\n    <tr>\n      <th>3</th>\n      <td>Network)</td>\n      <td>0.025809</td>\n    </tr>\n    <tr>\n      <th>4</th>\n      <td>-</td>\n      <td>0.032747</td>\n    </tr>\n    <tr>\n      <th>5</th>\n      <td>Carolina</td>\n      <td>0.017378</td>\n    </tr>\n    <tr>\n      <th>6</th>\n      <td>Panthers</td>\n      <td>0.177153</td>\n    </tr>\n    <tr>\n      <th>7</th>\n      <td>running</td>\n      <td>0.040260</td>\n    </tr>\n    <tr>\n      <th>8</th>\n      <td>back</td>\n      <td>0.034067</td>\n    </tr>\n    <tr>\n      <th>9</th>\n      <td>Stephen</td>\n      <td>0.046713</td>\n    </tr>\n    <tr>\n      <th>10</th>\n      <td>Davis</td>\n      <td>0.035893</td>\n    </tr>\n    <tr>\n      <th>11</th>\n      <td>will</td>\n      <td>-0.008907</td>\n    </tr>\n    <tr>\n      <th>12</th>\n      <td>miss</td>\n      <td>0.042146</td>\n    </tr>\n    <tr>\n      <th>13</th>\n      <td>the</td>\n      <td>-0.028301</td>\n    </tr>\n    <tr>\n      <th>14</th>\n      <td>remainder</td>\n      <td>0.028468</td>\n    </tr>\n    <tr>\n      <th>15</th>\n      <td>of</td>\n      <td>0.046866</td>\n    </tr>\n    <tr>\n      <th>16</th>\n      <td>the</td>\n      <td>0.019466</td>\n    </tr>\n    <tr>\n      <th>17</th>\n      <td>season</td>\n      <td>0.063903</td>\n    </tr>\n    <tr>\n      <th>18</th>\n      <td>after</td>\n      <td>0.038578</td>\n    </tr>\n    <tr>\n      <th>19</th>\n      <td>being</td>\n      <td>0.027432</td>\n    </tr>\n    <tr>\n      <th>20</th>\n      <td>placed</td>\n      <td>0.021770</td>\n    </tr>\n    <tr>\n      <th>21</th>\n      <td>on</td>\n      <td>0.045242</td>\n    </tr>\n    <tr>\n      <th>22</th>\n      <td>injured</td>\n      <td>0.038121</td>\n    </tr>\n    <tr>\n      <th>23</th>\n      <td>reserve</td>\n      <td>0.021061</td>\n    </tr>\n    <tr>\n      <th>24</th>\n      <td>Saturday.</td>\n      <td>0.037457</td>\n    </tr>\n  </tbody>\n</table>\n</div>"
     },
     "execution_count": 6,
     "metadata": {},
     "output_type": "execute_result"
    }
   ],
   "source": [
    "df = pd.DataFrame()\n",
    "df['tokens'] = t\n",
    "df['salience'] = s\n",
    "pd = df.sort_values(by='salience', ascending=False)\n",
    "df"
   ],
   "metadata": {
    "collapsed": false,
    "pycharm": {
     "name": "#%%\n"
    }
   }
  }
 ],
 "metadata": {
  "kernelspec": {
   "display_name": "Python 3",
   "language": "python",
   "name": "python3"
  },
  "language_info": {
   "codemirror_mode": {
    "name": "ipython",
    "version": 2
   },
   "file_extension": ".py",
   "mimetype": "text/x-python",
   "name": "python",
   "nbconvert_exporter": "python",
   "pygments_lexer": "ipython2",
   "version": "2.7.6"
  }
 },
 "nbformat": 4,
 "nbformat_minor": 0
}