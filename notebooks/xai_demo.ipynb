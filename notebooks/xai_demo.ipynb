{
 "cells": [
  {
   "cell_type": "code",
   "execution_count": 2,
   "outputs": [],
   "source": [
    "import attr\n",
    "\n",
    "from quantus_nlp.xai import LitLimeModelAdapter, LitDatasetAdapter\n",
    "from lit_nlp.components import lime_explainer, gradient_maps\n",
    "import pandas as pd"
   ],
   "metadata": {
    "collapsed": false,
    "pycharm": {
     "name": "#%%\n"
    }
   }
  },
  {
   "cell_type": "code",
   "execution_count": 3,
   "outputs": [],
   "source": [
    "ds = LitDatasetAdapter()\n",
    "\n",
    "nn = LitLimeModelAdapter()"
   ],
   "metadata": {
    "collapsed": false,
    "pycharm": {
     "name": "#%%\n"
    }
   }
  },
  {
   "cell_type": "markdown",
   "source": [
    "## Lime"
   ],
   "metadata": {
    "collapsed": false,
    "pycharm": {
     "name": "#%% md\n"
    }
   }
  },
  {
   "cell_type": "code",
   "execution_count": 4,
   "outputs": [
    {
     "data": {
      "text/plain": "{'text': TokenSalience(tokens=['CHARLOTTE,', 'N.C.', '(Sports', 'Network)', '-', 'Carolina', 'Panthers', 'running', 'back', 'Stephen', 'Davis', 'will', 'miss', 'the', 'remainder', 'of', 'the', 'season', 'after', 'being', 'placed', 'on', 'injured', 'reserve', 'Saturday.'], salience=array([ 0.04327561,  0.02655925,  0.0999539 ,  0.01275676,  0.05141004,\n         0.06659845,  0.1627766 ,  0.03524831,  0.01917952,  0.01403224,\n         0.0357442 ,  0.03952775,  0.02323452,  0.01087326, -0.01781326,\n         0.01997427,  0.04865328,  0.04661352,  0.0418358 ,  0.01939604,\n         0.01455986, -0.01218454,  0.04352131,  0.06039166,  0.03388604]))}"
     },
     "execution_count": 4,
     "metadata": {},
     "output_type": "execute_result"
    }
   ],
   "source": [
    "lime = lime_explainer.LIME()\n",
    "\n",
    "lime_results = lime.run(ds.examples[:1], nn, ds)[0]"
   ],
   "metadata": {
    "collapsed": false,
    "pycharm": {
     "name": "#%%\n"
    }
   }
  },
  {
   "cell_type": "code",
   "execution_count": 10,
   "outputs": [
    {
     "data": {
      "text/plain": "        tokens  salience\n6     Panthers  0.162777\n2      (Sports  0.099954\n5     Carolina  0.066598\n23     reserve  0.060392\n4            -  0.051410\n16         the  0.048653\n17      season  0.046614\n22     injured  0.043521\n0   CHARLOTTE,  0.043276\n18       after  0.041836\n11        will  0.039528\n10       Davis  0.035744\n7      running  0.035248\n24   Saturday.  0.033886\n1         N.C.  0.026559\n12        miss  0.023235\n15          of  0.019974\n19       being  0.019396\n8         back  0.019180\n20      placed  0.014560\n9      Stephen  0.014032\n3     Network)  0.012757\n13         the  0.010873\n21          on -0.012185\n14   remainder -0.017813",
      "text/html": "<div>\n<style scoped>\n    .dataframe tbody tr th:only-of-type {\n        vertical-align: middle;\n    }\n\n    .dataframe tbody tr th {\n        vertical-align: top;\n    }\n\n    .dataframe thead th {\n        text-align: right;\n    }\n</style>\n<table border=\"1\" class=\"dataframe\">\n  <thead>\n    <tr style=\"text-align: right;\">\n      <th></th>\n      <th>tokens</th>\n      <th>salience</th>\n    </tr>\n  </thead>\n  <tbody>\n    <tr>\n      <th>6</th>\n      <td>Panthers</td>\n      <td>0.162777</td>\n    </tr>\n    <tr>\n      <th>2</th>\n      <td>(Sports</td>\n      <td>0.099954</td>\n    </tr>\n    <tr>\n      <th>5</th>\n      <td>Carolina</td>\n      <td>0.066598</td>\n    </tr>\n    <tr>\n      <th>23</th>\n      <td>reserve</td>\n      <td>0.060392</td>\n    </tr>\n    <tr>\n      <th>4</th>\n      <td>-</td>\n      <td>0.051410</td>\n    </tr>\n    <tr>\n      <th>16</th>\n      <td>the</td>\n      <td>0.048653</td>\n    </tr>\n    <tr>\n      <th>17</th>\n      <td>season</td>\n      <td>0.046614</td>\n    </tr>\n    <tr>\n      <th>22</th>\n      <td>injured</td>\n      <td>0.043521</td>\n    </tr>\n    <tr>\n      <th>0</th>\n      <td>CHARLOTTE,</td>\n      <td>0.043276</td>\n    </tr>\n    <tr>\n      <th>18</th>\n      <td>after</td>\n      <td>0.041836</td>\n    </tr>\n    <tr>\n      <th>11</th>\n      <td>will</td>\n      <td>0.039528</td>\n    </tr>\n    <tr>\n      <th>10</th>\n      <td>Davis</td>\n      <td>0.035744</td>\n    </tr>\n    <tr>\n      <th>7</th>\n      <td>running</td>\n      <td>0.035248</td>\n    </tr>\n    <tr>\n      <th>24</th>\n      <td>Saturday.</td>\n      <td>0.033886</td>\n    </tr>\n    <tr>\n      <th>1</th>\n      <td>N.C.</td>\n      <td>0.026559</td>\n    </tr>\n    <tr>\n      <th>12</th>\n      <td>miss</td>\n      <td>0.023235</td>\n    </tr>\n    <tr>\n      <th>15</th>\n      <td>of</td>\n      <td>0.019974</td>\n    </tr>\n    <tr>\n      <th>19</th>\n      <td>being</td>\n      <td>0.019396</td>\n    </tr>\n    <tr>\n      <th>8</th>\n      <td>back</td>\n      <td>0.019180</td>\n    </tr>\n    <tr>\n      <th>20</th>\n      <td>placed</td>\n      <td>0.014560</td>\n    </tr>\n    <tr>\n      <th>9</th>\n      <td>Stephen</td>\n      <td>0.014032</td>\n    </tr>\n    <tr>\n      <th>3</th>\n      <td>Network)</td>\n      <td>0.012757</td>\n    </tr>\n    <tr>\n      <th>13</th>\n      <td>the</td>\n      <td>0.010873</td>\n    </tr>\n    <tr>\n      <th>21</th>\n      <td>on</td>\n      <td>-0.012185</td>\n    </tr>\n    <tr>\n      <th>14</th>\n      <td>remainder</td>\n      <td>-0.017813</td>\n    </tr>\n  </tbody>\n</table>\n</div>"
     },
     "execution_count": 10,
     "metadata": {},
     "output_type": "execute_result"
    }
   ],
   "source": [
    "pd.DataFrame(attr.asdict(lime_results['text'])).sort_values(by='salience', ascending=False)"
   ],
   "metadata": {
    "collapsed": false,
    "pycharm": {
     "name": "#%%\n"
    }
   }
  }
 ],
 "metadata": {
  "kernelspec": {
   "display_name": "Python 3",
   "language": "python",
   "name": "python3"
  },
  "language_info": {
   "codemirror_mode": {
    "name": "ipython",
    "version": 2
   },
   "file_extension": ".py",
   "mimetype": "text/x-python",
   "name": "python",
   "nbconvert_exporter": "python",
   "pygments_lexer": "ipython2",
   "version": "2.7.6"
  }
 },
 "nbformat": 4,
 "nbformat_minor": 0
}