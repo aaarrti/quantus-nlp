{
 "cells": [
  {
   "cell_type": "code",
   "execution_count": 2,
   "outputs": [],
   "source": [
    "from lit_nlp import notebook\n",
    "import attr\n",
    "\n",
    "from quantus_nlp.xai import LitLimeModelAdapter, LitDatasetAdapter\n",
    "from lit_nlp.components import lime_explainer, gradient_maps\n",
    "import pandas as pd"
   ],
   "metadata": {
    "collapsed": false,
    "pycharm": {
     "name": "#%%\n"
    }
   }
  },
  {
   "cell_type": "code",
   "execution_count": 3,
   "outputs": [],
   "source": [
    "ds = LitDatasetAdapter()\n",
    "\n",
    "nn = LitLimeModelAdapter()"
   ],
   "metadata": {
    "collapsed": false,
    "pycharm": {
     "name": "#%%\n"
    }
   }
  },
  {
   "cell_type": "markdown",
   "source": [
    "## Lime"
   ],
   "metadata": {
    "collapsed": false,
    "pycharm": {
     "name": "#%% md\n"
    }
   }
  },
  {
   "cell_type": "code",
   "execution_count": 4,
   "outputs": [
    {
     "data": {
      "text/plain": "{'text': TokenSalience(tokens=['CHARLOTTE,', 'N.C.', '(Sports', 'Network)', '-', 'Carolina', 'Panthers', 'running', 'back', 'Stephen', 'Davis', 'will', 'miss', 'the', 'remainder', 'of', 'the', 'season', 'after', 'being', 'placed', 'on', 'injured', 'reserve', 'Saturday.'], salience=array([ 0.04327561,  0.02655925,  0.0999539 ,  0.01275676,  0.05141004,\n         0.06659845,  0.1627766 ,  0.03524831,  0.01917952,  0.01403224,\n         0.0357442 ,  0.03952775,  0.02323452,  0.01087326, -0.01781326,\n         0.01997427,  0.04865328,  0.04661352,  0.0418358 ,  0.01939604,\n         0.01455986, -0.01218454,  0.04352131,  0.06039166,  0.03388604]))}"
     },
     "execution_count": 4,
     "metadata": {},
     "output_type": "execute_result"
    }
   ],
   "source": [
    "lime = lime_explainer.LIME()\n",
    "\n",
    "lime_results = lime.run(ds.examples[:1], nn, ds)[0]"
   ],
   "metadata": {
    "collapsed": false,
    "pycharm": {
     "name": "#%%\n"
    }
   }
  },
  {
   "cell_type": "code",
   "execution_count": 10,
   "outputs": [
    {
     "data": {
      "text/plain": "        tokens  salience\n6     Panthers  0.162777\n2      (Sports  0.099954\n5     Carolina  0.066598\n23     reserve  0.060392\n4            -  0.051410\n16         the  0.048653\n17      season  0.046614\n22     injured  0.043521\n0   CHARLOTTE,  0.043276\n18       after  0.041836\n11        will  0.039528\n10       Davis  0.035744\n7      running  0.035248\n24   Saturday.  0.033886\n1         N.C.  0.026559\n12        miss  0.023235\n15          of  0.019974\n19       being  0.019396\n8         back  0.019180\n20      placed  0.014560\n9      Stephen  0.014032\n3     Network)  0.012757\n13         the  0.010873\n21          on -0.012185\n14   remainder -0.017813",
      "text/html": "<div>\n<style scoped>\n    .dataframe tbody tr th:only-of-type {\n        vertical-align: middle;\n    }\n\n    .dataframe tbody tr th {\n        vertical-align: top;\n    }\n\n    .dataframe thead th {\n        text-align: right;\n    }\n</style>\n<table border=\"1\" class=\"dataframe\">\n  <thead>\n    <tr style=\"text-align: right;\">\n      <th></th>\n      <th>tokens</th>\n      <th>salience</th>\n    </tr>\n  </thead>\n  <tbody>\n    <tr>\n      <th>6</th>\n      <td>Panthers</td>\n      <td>0.162777</td>\n    </tr>\n    <tr>\n      <th>2</th>\n      <td>(Sports</td>\n      <td>0.099954</td>\n    </tr>\n    <tr>\n      <th>5</th>\n      <td>Carolina</td>\n      <td>0.066598</td>\n    </tr>\n    <tr>\n      <th>23</th>\n      <td>reserve</td>\n      <td>0.060392</td>\n    </tr>\n    <tr>\n      <th>4</th>\n      <td>-</td>\n      <td>0.051410</td>\n    </tr>\n    <tr>\n      <th>16</th>\n      <td>the</td>\n      <td>0.048653</td>\n    </tr>\n    <tr>\n      <th>17</th>\n      <td>season</td>\n      <td>0.046614</td>\n    </tr>\n    <tr>\n      <th>22</th>\n      <td>injured</td>\n      <td>0.043521</td>\n    </tr>\n    <tr>\n      <th>0</th>\n      <td>CHARLOTTE,</td>\n      <td>0.043276</td>\n    </tr>\n    <tr>\n      <th>18</th>\n      <td>after</td>\n      <td>0.041836</td>\n    </tr>\n    <tr>\n      <th>11</th>\n      <td>will</td>\n      <td>0.039528</td>\n    </tr>\n    <tr>\n      <th>10</th>\n      <td>Davis</td>\n      <td>0.035744</td>\n    </tr>\n    <tr>\n      <th>7</th>\n      <td>running</td>\n      <td>0.035248</td>\n    </tr>\n    <tr>\n      <th>24</th>\n      <td>Saturday.</td>\n      <td>0.033886</td>\n    </tr>\n    <tr>\n      <th>1</th>\n      <td>N.C.</td>\n      <td>0.026559</td>\n    </tr>\n    <tr>\n      <th>12</th>\n      <td>miss</td>\n      <td>0.023235</td>\n    </tr>\n    <tr>\n      <th>15</th>\n      <td>of</td>\n      <td>0.019974</td>\n    </tr>\n    <tr>\n      <th>19</th>\n      <td>being</td>\n      <td>0.019396</td>\n    </tr>\n    <tr>\n      <th>8</th>\n      <td>back</td>\n      <td>0.019180</td>\n    </tr>\n    <tr>\n      <th>20</th>\n      <td>placed</td>\n      <td>0.014560</td>\n    </tr>\n    <tr>\n      <th>9</th>\n      <td>Stephen</td>\n      <td>0.014032</td>\n    </tr>\n    <tr>\n      <th>3</th>\n      <td>Network)</td>\n      <td>0.012757</td>\n    </tr>\n    <tr>\n      <th>13</th>\n      <td>the</td>\n      <td>0.010873</td>\n    </tr>\n    <tr>\n      <th>21</th>\n      <td>on</td>\n      <td>-0.012185</td>\n    </tr>\n    <tr>\n      <th>14</th>\n      <td>remainder</td>\n      <td>-0.017813</td>\n    </tr>\n  </tbody>\n</table>\n</div>"
     },
     "execution_count": 10,
     "metadata": {},
     "output_type": "execute_result"
    }
   ],
   "source": [
    "pd.DataFrame(attr.asdict(lime_results['text'])).sort_values(by='salience', ascending=False)"
   ],
   "metadata": {
    "collapsed": false,
    "pycharm": {
     "name": "#%%\n"
    }
   }
  },
  {
   "cell_type": "markdown",
   "source": [
    "## Integrated Gradient"
   ],
   "metadata": {
    "collapsed": false,
    "pycharm": {
     "name": "#%% md\n"
    }
   }
  },
  {
   "cell_type": "code",
   "execution_count": null,
   "outputs": [],
   "source": [
    "ig = gradient_maps.IntegratedGradients()\n",
    "\n",
    "ig_results = ig.run(ds.examples[:1], nn, ds)[0]\n",
    "ig_results"
   ],
   "metadata": {
    "collapsed": false,
    "pycharm": {
     "name": "#%%\n"
    }
   }
  },
  {
   "cell_type": "code",
   "execution_count": null,
   "outputs": [],
   "source": [
    "# Again, pretty-print output with Pandas. The SalienceMap object is just a dataclass defined using attr.s.\n",
    "pd.DataFrame(attr.asdict(ig_results['token_grad_sentence']))"
   ],
   "metadata": {
    "collapsed": false,
    "pycharm": {
     "name": "#%%\n"
    }
   }
  },
  {
   "cell_type": "markdown",
   "source": [
    "## UI"
   ],
   "metadata": {
    "collapsed": false,
    "pycharm": {
     "name": "#%% md\n"
    }
   }
  },
  {
   "cell_type": "code",
   "execution_count": 11,
   "outputs": [],
   "source": [
    "datasets = {'ag_news': ds}\n",
    "models = {'bert': nn}"
   ],
   "metadata": {
    "collapsed": false,
    "pycharm": {
     "name": "#%%\n"
    }
   }
  },
  {
   "cell_type": "code",
   "execution_count": 15,
   "outputs": [
    {
     "ename": "KeyboardInterrupt",
     "evalue": "",
     "output_type": "error",
     "traceback": [
      "\u001B[0;31m---------------------------------------------------------------------------\u001B[0m",
      "\u001B[0;31mKeyboardInterrupt\u001B[0m                         Traceback (most recent call last)",
      "Input \u001B[0;32mIn [15]\u001B[0m, in \u001B[0;36m<cell line: 1>\u001B[0;34m()\u001B[0m\n\u001B[0;32m----> 1\u001B[0m widget \u001B[38;5;241m=\u001B[39m \u001B[43mnotebook\u001B[49m\u001B[38;5;241;43m.\u001B[39;49m\u001B[43mLitWidget\u001B[49m\u001B[43m(\u001B[49m\u001B[43mmodels\u001B[49m\u001B[43m,\u001B[49m\u001B[43m \u001B[49m\u001B[43mdatasets\u001B[49m\u001B[43m)\u001B[49m\n\u001B[1;32m      2\u001B[0m widget\u001B[38;5;241m.\u001B[39mrender()\n",
      "File \u001B[0;32m~/Library/Caches/pypoetry/virtualenvs/quantus-nlp-D8UWuPj4-py3.9/lib/python3.9/site-packages/lit_nlp/notebook.py:114\u001B[0m, in \u001B[0;36mLitWidget.__init__\u001B[0;34m(self, height, render, proxy_url, layouts, *args, **kw)\u001B[0m\n\u001B[1;32m    111\u001B[0m app_flags\u001B[38;5;241m.\u001B[39mupdate(kw)\n\u001B[1;32m    113\u001B[0m lit_demo \u001B[38;5;241m=\u001B[39m dev_server\u001B[38;5;241m.\u001B[39mServer(\u001B[38;5;241m*\u001B[39margs, layouts\u001B[38;5;241m=\u001B[39mlayouts, \u001B[38;5;241m*\u001B[39m\u001B[38;5;241m*\u001B[39mapp_flags)\n\u001B[0;32m--> 114\u001B[0m \u001B[38;5;28mself\u001B[39m\u001B[38;5;241m.\u001B[39m_server \u001B[38;5;241m=\u001B[39m cast(wsgi_serving\u001B[38;5;241m.\u001B[39mNotebookWsgiServer, \u001B[43mlit_demo\u001B[49m\u001B[38;5;241;43m.\u001B[39;49m\u001B[43mserve\u001B[49m\u001B[43m(\u001B[49m\u001B[43m)\u001B[49m)\n\u001B[1;32m    115\u001B[0m \u001B[38;5;28mself\u001B[39m\u001B[38;5;241m.\u001B[39m_height \u001B[38;5;241m=\u001B[39m height\n\u001B[1;32m    116\u001B[0m \u001B[38;5;28mself\u001B[39m\u001B[38;5;241m.\u001B[39m_proxy_url \u001B[38;5;241m=\u001B[39m proxy_url\n",
      "File \u001B[0;32m~/Library/Caches/pypoetry/virtualenvs/quantus-nlp-D8UWuPj4-py3.9/lib/python3.9/site-packages/lit_nlp/dev_server.py:90\u001B[0m, in \u001B[0;36mServer.serve\u001B[0;34m(self)\u001B[0m\n\u001B[1;32m     88\u001B[0m logging\u001B[38;5;241m.\u001B[39minfo(get_lit_logo())\n\u001B[1;32m     89\u001B[0m logging\u001B[38;5;241m.\u001B[39minfo(\u001B[38;5;124m'\u001B[39m\u001B[38;5;124mStarting LIT server...\u001B[39m\u001B[38;5;124m'\u001B[39m)\n\u001B[0;32m---> 90\u001B[0m app \u001B[38;5;241m=\u001B[39m \u001B[43mlit_app\u001B[49m\u001B[38;5;241;43m.\u001B[39;49m\u001B[43mLitApp\u001B[49m\u001B[43m(\u001B[49m\u001B[38;5;241;43m*\u001B[39;49m\u001B[38;5;28;43mself\u001B[39;49m\u001B[38;5;241;43m.\u001B[39;49m\u001B[43m_app_args\u001B[49m\u001B[43m,\u001B[49m\u001B[43m \u001B[49m\u001B[38;5;241;43m*\u001B[39;49m\u001B[38;5;241;43m*\u001B[39;49m\u001B[38;5;28;43mself\u001B[39;49m\u001B[38;5;241;43m.\u001B[39;49m\u001B[43m_app_kw\u001B[49m\u001B[43m)\u001B[49m\n\u001B[1;32m     92\u001B[0m \u001B[38;5;66;03m# If using a separate server program to serve the app, such as gunicorn,\u001B[39;00m\n\u001B[1;32m     93\u001B[0m \u001B[38;5;66;03m# then just return the WSGI app instead of serving it directly.\u001B[39;00m\n\u001B[1;32m     94\u001B[0m \u001B[38;5;28;01mif\u001B[39;00m \u001B[38;5;28mself\u001B[39m\u001B[38;5;241m.\u001B[39m_server_type \u001B[38;5;241m==\u001B[39m \u001B[38;5;124m'\u001B[39m\u001B[38;5;124mexternal\u001B[39m\u001B[38;5;124m'\u001B[39m:\n",
      "File \u001B[0;32m~/Library/Caches/pypoetry/virtualenvs/quantus-nlp-D8UWuPj4-py3.9/lib/python3.9/site-packages/lit_nlp/app.py:491\u001B[0m, in \u001B[0;36mLitApp.__init__\u001B[0;34m(self, models, datasets, generators, interpreters, annotators, layouts, data_dir, warm_start, warm_projections, client_root, demo_mode, default_layout, canonical_url, page_title, development_demo)\u001B[0m\n\u001B[1;32m    488\u001B[0m   warm_start \u001B[38;5;241m=\u001B[39m \u001B[38;5;241m1.0\u001B[39m\n\u001B[1;32m    490\u001B[0m \u001B[38;5;28;01mif\u001B[39;00m warm_start \u001B[38;5;241m>\u001B[39m \u001B[38;5;241m0\u001B[39m:\n\u001B[0;32m--> 491\u001B[0m   \u001B[38;5;28;43mself\u001B[39;49m\u001B[38;5;241;43m.\u001B[39;49m\u001B[43m_warm_start\u001B[49m\u001B[43m(\u001B[49m\u001B[43mrate\u001B[49m\u001B[38;5;241;43m=\u001B[39;49m\u001B[43mwarm_start\u001B[49m\u001B[43m)\u001B[49m\n\u001B[1;32m    492\u001B[0m   \u001B[38;5;28mself\u001B[39m\u001B[38;5;241m.\u001B[39msave_cache()\n\u001B[1;32m    494\u001B[0m \u001B[38;5;66;03m# If you add a new embedding projector that should be warm-started,\u001B[39;00m\n\u001B[1;32m    495\u001B[0m \u001B[38;5;66;03m# also add it to the list here.\u001B[39;00m\n\u001B[1;32m    496\u001B[0m \u001B[38;5;66;03m# TODO(lit-dev): add some registry mechanism / automation if this grows to\u001B[39;00m\n\u001B[1;32m    497\u001B[0m \u001B[38;5;66;03m# more than 2-3 projection types.\u001B[39;00m\n",
      "File \u001B[0;32m~/Library/Caches/pypoetry/virtualenvs/quantus-nlp-D8UWuPj4-py3.9/lib/python3.9/site-packages/lit_nlp/app.py:328\u001B[0m, in \u001B[0;36mLitApp._warm_start\u001B[0;34m(self, rate)\u001B[0m\n\u001B[1;32m    326\u001B[0m \u001B[38;5;28;01melse\u001B[39;00m:\n\u001B[1;32m    327\u001B[0m   dataset \u001B[38;5;241m=\u001B[39m full_dataset\n\u001B[0;32m--> 328\u001B[0m _ \u001B[38;5;241m=\u001B[39m \u001B[38;5;28;43mself\u001B[39;49m\u001B[38;5;241;43m.\u001B[39;49m\u001B[43m_get_preds\u001B[49m\u001B[43m(\u001B[49m\u001B[43m{\u001B[49m\u001B[38;5;124;43m'\u001B[39;49m\u001B[38;5;124;43minputs\u001B[39;49m\u001B[38;5;124;43m'\u001B[39;49m\u001B[43m:\u001B[49m\u001B[43m \u001B[49m\u001B[43mdataset\u001B[49m\u001B[43m}\u001B[49m\u001B[43m,\u001B[49m\u001B[43m \u001B[49m\u001B[43mmodel\u001B[49m\u001B[43m,\u001B[49m\u001B[43m \u001B[49m\u001B[43mdataset_name\u001B[49m\u001B[43m)\u001B[49m\n",
      "File \u001B[0;32m~/Library/Caches/pypoetry/virtualenvs/quantus-nlp-D8UWuPj4-py3.9/lib/python3.9/site-packages/lit_nlp/app.py:182\u001B[0m, in \u001B[0;36mLitApp._get_preds\u001B[0;34m(self, data, model, dataset_name, requested_types, **unused_kw)\u001B[0m\n\u001B[1;32m    165\u001B[0m \u001B[38;5;28;01mdef\u001B[39;00m \u001B[38;5;21m_get_preds\u001B[39m(\u001B[38;5;28mself\u001B[39m,\n\u001B[1;32m    166\u001B[0m                data,\n\u001B[1;32m    167\u001B[0m                model: Text,\n\u001B[1;32m    168\u001B[0m                dataset_name: Optional[Text] \u001B[38;5;241m=\u001B[39m \u001B[38;5;28;01mNone\u001B[39;00m,\n\u001B[1;32m    169\u001B[0m                requested_types: Text \u001B[38;5;241m=\u001B[39m \u001B[38;5;124m'\u001B[39m\u001B[38;5;124mLitType\u001B[39m\u001B[38;5;124m'\u001B[39m,\n\u001B[1;32m    170\u001B[0m                \u001B[38;5;241m*\u001B[39m\u001B[38;5;241m*\u001B[39munused_kw):\n\u001B[1;32m    171\u001B[0m   \u001B[38;5;124;03m\"\"\"Get model predictions.\u001B[39;00m\n\u001B[1;32m    172\u001B[0m \n\u001B[1;32m    173\u001B[0m \u001B[38;5;124;03m  Args:\u001B[39;00m\n\u001B[0;32m   (...)\u001B[0m\n\u001B[1;32m    180\u001B[0m \u001B[38;5;124;03m    List[JsonDict] containing requested fields of model predictions\u001B[39;00m\n\u001B[1;32m    181\u001B[0m \u001B[38;5;124;03m  \"\"\"\u001B[39;00m\n\u001B[0;32m--> 182\u001B[0m   preds \u001B[38;5;241m=\u001B[39m \u001B[38;5;28;43mself\u001B[39;49m\u001B[38;5;241;43m.\u001B[39;49m\u001B[43m_predict\u001B[49m\u001B[43m(\u001B[49m\u001B[43mdata\u001B[49m\u001B[43m[\u001B[49m\u001B[38;5;124;43m'\u001B[39;49m\u001B[38;5;124;43minputs\u001B[39;49m\u001B[38;5;124;43m'\u001B[39;49m\u001B[43m]\u001B[49m\u001B[43m,\u001B[49m\u001B[43m \u001B[49m\u001B[43mmodel\u001B[49m\u001B[43m,\u001B[49m\u001B[43m \u001B[49m\u001B[43mdataset_name\u001B[49m\u001B[43m)\u001B[49m\n\u001B[1;32m    184\u001B[0m   \u001B[38;5;66;03m# Figure out what to return to the frontend.\u001B[39;00m\n\u001B[1;32m    185\u001B[0m   output_spec \u001B[38;5;241m=\u001B[39m \u001B[38;5;28mself\u001B[39m\u001B[38;5;241m.\u001B[39m_get_model_spec(model)[\u001B[38;5;124m'\u001B[39m\u001B[38;5;124moutput\u001B[39m\u001B[38;5;124m'\u001B[39m]\n",
      "File \u001B[0;32m~/Library/Caches/pypoetry/virtualenvs/quantus-nlp-D8UWuPj4-py3.9/lib/python3.9/site-packages/lit_nlp/app.py:146\u001B[0m, in \u001B[0;36mLitApp._predict\u001B[0;34m(self, inputs, model_name, dataset_name)\u001B[0m\n\u001B[1;32m    143\u001B[0m \u001B[38;5;28;01mdef\u001B[39;00m \u001B[38;5;21m_predict\u001B[39m(\u001B[38;5;28mself\u001B[39m, inputs: List[JsonDict], model_name: Text,\n\u001B[1;32m    144\u001B[0m              dataset_name: Optional[Text]):\n\u001B[1;32m    145\u001B[0m   \u001B[38;5;124;03m\"\"\"Run model predictions.\"\"\"\u001B[39;00m\n\u001B[0;32m--> 146\u001B[0m   \u001B[38;5;28;01mreturn\u001B[39;00m \u001B[38;5;28mlist\u001B[39m(\u001B[38;5;28;43mself\u001B[39;49m\u001B[38;5;241;43m.\u001B[39;49m\u001B[43m_models\u001B[49m\u001B[43m[\u001B[49m\u001B[43mmodel_name\u001B[49m\u001B[43m]\u001B[49m\u001B[38;5;241;43m.\u001B[39;49m\u001B[43mpredict_with_metadata\u001B[49m\u001B[43m(\u001B[49m\n\u001B[1;32m    147\u001B[0m \u001B[43m      \u001B[49m\u001B[43minputs\u001B[49m\u001B[43m,\u001B[49m\u001B[43m \u001B[49m\u001B[43mdataset_name\u001B[49m\u001B[38;5;241;43m=\u001B[39;49m\u001B[43mdataset_name\u001B[49m\u001B[43m)\u001B[49m)\n",
      "File \u001B[0;32m~/Library/Caches/pypoetry/virtualenvs/quantus-nlp-D8UWuPj4-py3.9/lib/python3.9/site-packages/lit_nlp/lib/caching.py:182\u001B[0m, in \u001B[0;36mCachingModelWrapper.predict_with_metadata\u001B[0;34m(self, *args, **kw)\u001B[0m\n\u001B[1;32m    178\u001B[0m \u001B[38;5;66;03m# Lock for the entire request, to avoid running the model more than once\u001B[39;00m\n\u001B[1;32m    179\u001B[0m \u001B[38;5;66;03m# on the same inputs. This shouldn't cause much of a performance hit, since\u001B[39;00m\n\u001B[1;32m    180\u001B[0m \u001B[38;5;66;03m# models are generally compute-bound anyway.\u001B[39;00m\n\u001B[1;32m    181\u001B[0m \u001B[38;5;28;01mwith\u001B[39;00m \u001B[38;5;28mself\u001B[39m\u001B[38;5;241m.\u001B[39m_cache\u001B[38;5;241m.\u001B[39mlock:\n\u001B[0;32m--> 182\u001B[0m   results \u001B[38;5;241m=\u001B[39m \u001B[38;5;28;43mself\u001B[39;49m\u001B[38;5;241;43m.\u001B[39;49m\u001B[43m_predict_with_metadata\u001B[49m\u001B[43m(\u001B[49m\u001B[38;5;241;43m*\u001B[39;49m\u001B[43margs\u001B[49m\u001B[43m,\u001B[49m\u001B[43m \u001B[49m\u001B[38;5;241;43m*\u001B[39;49m\u001B[38;5;241;43m*\u001B[39;49m\u001B[43mkw\u001B[49m\u001B[43m)\u001B[49m\n\u001B[1;32m    183\u001B[0m \u001B[38;5;28;01mreturn\u001B[39;00m results\n",
      "File \u001B[0;32m~/Library/Caches/pypoetry/virtualenvs/quantus-nlp-D8UWuPj4-py3.9/lib/python3.9/site-packages/lit_nlp/lib/caching.py:211\u001B[0m, in \u001B[0;36mCachingModelWrapper._predict_with_metadata\u001B[0;34m(self, indexed_inputs, dataset_name, **kw)\u001B[0m\n\u001B[1;32m    209\u001B[0m model_inputs \u001B[38;5;241m=\u001B[39m [indexed_inputs[i] \u001B[38;5;28;01mfor\u001B[39;00m i \u001B[38;5;129;01min\u001B[39;00m miss_idxs]\n\u001B[1;32m    210\u001B[0m logging\u001B[38;5;241m.\u001B[39minfo(\u001B[38;5;124m\"\u001B[39m\u001B[38;5;124mPrepared \u001B[39m\u001B[38;5;132;01m%d\u001B[39;00m\u001B[38;5;124m inputs for model\u001B[39m\u001B[38;5;124m\"\u001B[39m, \u001B[38;5;28mlen\u001B[39m(model_inputs))\n\u001B[0;32m--> 211\u001B[0m model_preds \u001B[38;5;241m=\u001B[39m \u001B[38;5;28;43mlist\u001B[39;49m\u001B[43m(\u001B[49m\u001B[38;5;28;43mself\u001B[39;49m\u001B[38;5;241;43m.\u001B[39;49m\u001B[43mwrapped\u001B[49m\u001B[38;5;241;43m.\u001B[39;49m\u001B[43mpredict_with_metadata\u001B[49m\u001B[43m(\u001B[49m\u001B[43mmodel_inputs\u001B[49m\u001B[43m)\u001B[49m\u001B[43m)\u001B[49m\n\u001B[1;32m    212\u001B[0m logging\u001B[38;5;241m.\u001B[39minfo(\u001B[38;5;124m\"\u001B[39m\u001B[38;5;124mReceived \u001B[39m\u001B[38;5;132;01m%d\u001B[39;00m\u001B[38;5;124m predictions from model\u001B[39m\u001B[38;5;124m\"\u001B[39m, \u001B[38;5;28mlen\u001B[39m(model_preds))\n\u001B[1;32m    213\u001B[0m \u001B[38;5;28;01massert\u001B[39;00m \u001B[38;5;28mlen\u001B[39m(model_preds) \u001B[38;5;241m==\u001B[39m \u001B[38;5;28mlen\u001B[39m(\n\u001B[1;32m    214\u001B[0m     model_inputs\n\u001B[1;32m    215\u001B[0m ), \u001B[38;5;124mf\u001B[39m\u001B[38;5;124m\"\u001B[39m\u001B[38;5;124mReceived \u001B[39m\u001B[38;5;132;01m{\u001B[39;00m\u001B[38;5;28mlen\u001B[39m(model_preds)\u001B[38;5;132;01m}\u001B[39;00m\u001B[38;5;124m predictions, which does not match \u001B[39m\u001B[38;5;132;01m{\u001B[39;00m\u001B[38;5;28mlen\u001B[39m(model_inputs)\u001B[38;5;132;01m}\u001B[39;00m\u001B[38;5;124m, the number of inputs.\u001B[39m\u001B[38;5;124m\"\u001B[39m\n",
      "File \u001B[0;32m~/Library/Caches/pypoetry/virtualenvs/quantus-nlp-D8UWuPj4-py3.9/lib/python3.9/site-packages/lit_nlp/api/model.py:197\u001B[0m, in \u001B[0;36m<genexpr>\u001B[0;34m(.0)\u001B[0m\n\u001B[1;32m    195\u001B[0m results \u001B[38;5;241m=\u001B[39m \u001B[38;5;28mself\u001B[39m\u001B[38;5;241m.\u001B[39m_batched_predict(inputs, \u001B[38;5;241m*\u001B[39m\u001B[38;5;241m*\u001B[39mkw)\n\u001B[1;32m    196\u001B[0m \u001B[38;5;28;01mif\u001B[39;00m scrub_arrays:\n\u001B[0;32m--> 197\u001B[0m   results \u001B[38;5;241m=\u001B[39m (scrub_numpy_refs(res) \u001B[38;5;28;01mfor\u001B[39;00m res \u001B[38;5;129;01min\u001B[39;00m results)\n\u001B[1;32m    198\u001B[0m \u001B[38;5;28;01mreturn\u001B[39;00m results\n",
      "File \u001B[0;32m~/Library/Caches/pypoetry/virtualenvs/quantus-nlp-D8UWuPj4-py3.9/lib/python3.9/site-packages/lit_nlp/api/model.py:209\u001B[0m, in \u001B[0;36mModel._batched_predict\u001B[0;34m(self, inputs, **kw)\u001B[0m\n\u001B[1;32m    207\u001B[0m     minibatch\u001B[38;5;241m.\u001B[39mappend(ex)\n\u001B[1;32m    208\u001B[0m   \u001B[38;5;28;01mif\u001B[39;00m \u001B[38;5;28mlen\u001B[39m(minibatch) \u001B[38;5;241m>\u001B[39m\u001B[38;5;241m=\u001B[39m minibatch_size:\n\u001B[0;32m--> 209\u001B[0m     \u001B[38;5;28;01myield from\u001B[39;00m \u001B[38;5;28;43mself\u001B[39;49m\u001B[38;5;241;43m.\u001B[39;49m\u001B[43mpredict_minibatch\u001B[49m\u001B[43m(\u001B[49m\u001B[43mminibatch\u001B[49m\u001B[43m,\u001B[49m\u001B[43m \u001B[49m\u001B[38;5;241;43m*\u001B[39;49m\u001B[38;5;241;43m*\u001B[39;49m\u001B[43mkw\u001B[49m\u001B[43m)\u001B[49m\n\u001B[1;32m    210\u001B[0m     minibatch \u001B[38;5;241m=\u001B[39m []\n\u001B[1;32m    211\u001B[0m \u001B[38;5;28;01mif\u001B[39;00m \u001B[38;5;28mlen\u001B[39m(minibatch) \u001B[38;5;241m>\u001B[39m \u001B[38;5;241m0\u001B[39m:  \u001B[38;5;66;03m# pylint: disable=g-explicit-length-test\u001B[39;00m\n",
      "File \u001B[0;32m~/Documents/PycharmProjects/quantus-nlp/quantus_nlp/xai/lit.py:44\u001B[0m, in \u001B[0;36mLitLimeModelAdapter.predict_minibatch\u001B[0;34m(self, inputs)\u001B[0m\n\u001B[1;32m     42\u001B[0m \u001B[38;5;28;01mdef\u001B[39;00m \u001B[38;5;21mpredict_minibatch\u001B[39m(\u001B[38;5;28mself\u001B[39m, inputs: List[JsonDict]) \u001B[38;5;241m-\u001B[39m\u001B[38;5;241m>\u001B[39m List[JsonDict]:\n\u001B[1;32m     43\u001B[0m     x \u001B[38;5;241m=\u001B[39m inputs[\u001B[38;5;241m0\u001B[39m][\u001B[38;5;124m'\u001B[39m\u001B[38;5;124mtext\u001B[39m\u001B[38;5;124m'\u001B[39m]\n\u001B[0;32m---> 44\u001B[0m     xp \u001B[38;5;241m=\u001B[39m \u001B[38;5;28;43mself\u001B[39;49m\u001B[38;5;241;43m.\u001B[39;49m\u001B[43mpre_process\u001B[49m\u001B[43m(\u001B[49m\u001B[43m[\u001B[49m\u001B[43mx\u001B[49m\u001B[43m]\u001B[49m\u001B[43m)\u001B[49m\n\u001B[1;32m     45\u001B[0m     res \u001B[38;5;241m=\u001B[39m \u001B[38;5;28mself\u001B[39m\u001B[38;5;241m.\u001B[39mtransformer(xp)\n\u001B[1;32m     46\u001B[0m     \u001B[38;5;28;01mreturn\u001B[39;00m [{\n\u001B[1;32m     47\u001B[0m         \u001B[38;5;124m'\u001B[39m\u001B[38;5;124mprobs\u001B[39m\u001B[38;5;124m'\u001B[39m: res\u001B[38;5;241m.\u001B[39mnumpy()[\u001B[38;5;241m0\u001B[39m]\n\u001B[1;32m     48\u001B[0m     }]\n",
      "File \u001B[0;32m~/Library/Caches/pypoetry/virtualenvs/quantus-nlp-D8UWuPj4-py3.9/lib/python3.9/site-packages/keras/utils/traceback_utils.py:64\u001B[0m, in \u001B[0;36mfilter_traceback.<locals>.error_handler\u001B[0;34m(*args, **kwargs)\u001B[0m\n\u001B[1;32m     62\u001B[0m filtered_tb \u001B[38;5;241m=\u001B[39m \u001B[38;5;28;01mNone\u001B[39;00m\n\u001B[1;32m     63\u001B[0m \u001B[38;5;28;01mtry\u001B[39;00m:\n\u001B[0;32m---> 64\u001B[0m   \u001B[38;5;28;01mreturn\u001B[39;00m \u001B[43mfn\u001B[49m\u001B[43m(\u001B[49m\u001B[38;5;241;43m*\u001B[39;49m\u001B[43margs\u001B[49m\u001B[43m,\u001B[49m\u001B[43m \u001B[49m\u001B[38;5;241;43m*\u001B[39;49m\u001B[38;5;241;43m*\u001B[39;49m\u001B[43mkwargs\u001B[49m\u001B[43m)\u001B[49m\n\u001B[1;32m     65\u001B[0m \u001B[38;5;28;01mexcept\u001B[39;00m \u001B[38;5;167;01mException\u001B[39;00m \u001B[38;5;28;01mas\u001B[39;00m e:  \u001B[38;5;66;03m# pylint: disable=broad-except\u001B[39;00m\n\u001B[1;32m     66\u001B[0m   filtered_tb \u001B[38;5;241m=\u001B[39m _process_traceback_frames(e\u001B[38;5;241m.\u001B[39m__traceback__)\n",
      "File \u001B[0;32m~/Library/Caches/pypoetry/virtualenvs/quantus-nlp-D8UWuPj4-py3.9/lib/python3.9/site-packages/keras/engine/base_layer.py:1014\u001B[0m, in \u001B[0;36mLayer.__call__\u001B[0;34m(self, *args, **kwargs)\u001B[0m\n\u001B[1;32m   1010\u001B[0m   inputs \u001B[38;5;241m=\u001B[39m \u001B[38;5;28mself\u001B[39m\u001B[38;5;241m.\u001B[39m_maybe_cast_inputs(inputs, input_list)\n\u001B[1;32m   1012\u001B[0m \u001B[38;5;28;01mwith\u001B[39;00m autocast_variable\u001B[38;5;241m.\u001B[39menable_auto_cast_variables(\n\u001B[1;32m   1013\u001B[0m     \u001B[38;5;28mself\u001B[39m\u001B[38;5;241m.\u001B[39m_compute_dtype_object):\n\u001B[0;32m-> 1014\u001B[0m   outputs \u001B[38;5;241m=\u001B[39m \u001B[43mcall_fn\u001B[49m\u001B[43m(\u001B[49m\u001B[43minputs\u001B[49m\u001B[43m,\u001B[49m\u001B[43m \u001B[49m\u001B[38;5;241;43m*\u001B[39;49m\u001B[43margs\u001B[49m\u001B[43m,\u001B[49m\u001B[43m \u001B[49m\u001B[38;5;241;43m*\u001B[39;49m\u001B[38;5;241;43m*\u001B[39;49m\u001B[43mkwargs\u001B[49m\u001B[43m)\u001B[49m\n\u001B[1;32m   1016\u001B[0m \u001B[38;5;28;01mif\u001B[39;00m \u001B[38;5;28mself\u001B[39m\u001B[38;5;241m.\u001B[39m_activity_regularizer:\n\u001B[1;32m   1017\u001B[0m   \u001B[38;5;28mself\u001B[39m\u001B[38;5;241m.\u001B[39m_handle_activity_regularization(inputs, outputs)\n",
      "File \u001B[0;32m~/Library/Caches/pypoetry/virtualenvs/quantus-nlp-D8UWuPj4-py3.9/lib/python3.9/site-packages/keras/utils/traceback_utils.py:92\u001B[0m, in \u001B[0;36minject_argument_info_in_traceback.<locals>.error_handler\u001B[0;34m(*args, **kwargs)\u001B[0m\n\u001B[1;32m     90\u001B[0m bound_signature \u001B[38;5;241m=\u001B[39m \u001B[38;5;28;01mNone\u001B[39;00m\n\u001B[1;32m     91\u001B[0m \u001B[38;5;28;01mtry\u001B[39;00m:\n\u001B[0;32m---> 92\u001B[0m   \u001B[38;5;28;01mreturn\u001B[39;00m \u001B[43mfn\u001B[49m\u001B[43m(\u001B[49m\u001B[38;5;241;43m*\u001B[39;49m\u001B[43margs\u001B[49m\u001B[43m,\u001B[49m\u001B[43m \u001B[49m\u001B[38;5;241;43m*\u001B[39;49m\u001B[38;5;241;43m*\u001B[39;49m\u001B[43mkwargs\u001B[49m\u001B[43m)\u001B[49m\n\u001B[1;32m     93\u001B[0m \u001B[38;5;28;01mexcept\u001B[39;00m \u001B[38;5;167;01mException\u001B[39;00m \u001B[38;5;28;01mas\u001B[39;00m e:  \u001B[38;5;66;03m# pylint: disable=broad-except\u001B[39;00m\n\u001B[1;32m     94\u001B[0m   \u001B[38;5;28;01mif\u001B[39;00m \u001B[38;5;28mhasattr\u001B[39m(e, \u001B[38;5;124m'\u001B[39m\u001B[38;5;124m_keras_call_info_injected\u001B[39m\u001B[38;5;124m'\u001B[39m):\n\u001B[1;32m     95\u001B[0m     \u001B[38;5;66;03m# Only inject info for the innermost failing call\u001B[39;00m\n",
      "File \u001B[0;32m~/Library/Caches/pypoetry/virtualenvs/quantus-nlp-D8UWuPj4-py3.9/lib/python3.9/site-packages/tensorflow_hub/keras_layer.py:237\u001B[0m, in \u001B[0;36mKerasLayer.call\u001B[0;34m(self, inputs, training)\u001B[0m\n\u001B[1;32m    234\u001B[0m   \u001B[38;5;28;01melse\u001B[39;00m:\n\u001B[1;32m    235\u001B[0m     \u001B[38;5;66;03m# Behave like BatchNormalization. (Dropout is different, b/181839368.)\u001B[39;00m\n\u001B[1;32m    236\u001B[0m     training \u001B[38;5;241m=\u001B[39m \u001B[38;5;28;01mFalse\u001B[39;00m\n\u001B[0;32m--> 237\u001B[0m   result \u001B[38;5;241m=\u001B[39m \u001B[43msmart_cond\u001B[49m\u001B[38;5;241;43m.\u001B[39;49m\u001B[43msmart_cond\u001B[49m\u001B[43m(\u001B[49m\u001B[43mtraining\u001B[49m\u001B[43m,\u001B[49m\n\u001B[1;32m    238\u001B[0m \u001B[43m                                 \u001B[49m\u001B[38;5;28;43;01mlambda\u001B[39;49;00m\u001B[43m:\u001B[49m\u001B[43m \u001B[49m\u001B[43mf\u001B[49m\u001B[43m(\u001B[49m\u001B[43mtraining\u001B[49m\u001B[38;5;241;43m=\u001B[39;49m\u001B[38;5;28;43;01mTrue\u001B[39;49;00m\u001B[43m)\u001B[49m\u001B[43m,\u001B[49m\n\u001B[1;32m    239\u001B[0m \u001B[43m                                 \u001B[49m\u001B[38;5;28;43;01mlambda\u001B[39;49;00m\u001B[43m:\u001B[49m\u001B[43m \u001B[49m\u001B[43mf\u001B[49m\u001B[43m(\u001B[49m\u001B[43mtraining\u001B[49m\u001B[38;5;241;43m=\u001B[39;49m\u001B[38;5;28;43;01mFalse\u001B[39;49;00m\u001B[43m)\u001B[49m\u001B[43m)\u001B[49m\n\u001B[1;32m    241\u001B[0m \u001B[38;5;66;03m# Unwrap dicts returned by signatures.\u001B[39;00m\n\u001B[1;32m    242\u001B[0m \u001B[38;5;28;01mif\u001B[39;00m \u001B[38;5;28mself\u001B[39m\u001B[38;5;241m.\u001B[39m_output_key:\n",
      "File \u001B[0;32m~/Library/Caches/pypoetry/virtualenvs/quantus-nlp-D8UWuPj4-py3.9/lib/python3.9/site-packages/tensorflow/python/framework/smart_cond.py:55\u001B[0m, in \u001B[0;36msmart_cond\u001B[0;34m(pred, true_fn, false_fn, name)\u001B[0m\n\u001B[1;32m     53\u001B[0m     \u001B[38;5;28;01mreturn\u001B[39;00m true_fn()\n\u001B[1;32m     54\u001B[0m   \u001B[38;5;28;01melse\u001B[39;00m:\n\u001B[0;32m---> 55\u001B[0m     \u001B[38;5;28;01mreturn\u001B[39;00m \u001B[43mfalse_fn\u001B[49m\u001B[43m(\u001B[49m\u001B[43m)\u001B[49m\n\u001B[1;32m     56\u001B[0m \u001B[38;5;28;01melse\u001B[39;00m:\n\u001B[1;32m     57\u001B[0m   \u001B[38;5;28;01mreturn\u001B[39;00m control_flow_ops\u001B[38;5;241m.\u001B[39mcond(pred, true_fn\u001B[38;5;241m=\u001B[39mtrue_fn, false_fn\u001B[38;5;241m=\u001B[39mfalse_fn,\n\u001B[1;32m     58\u001B[0m                                name\u001B[38;5;241m=\u001B[39mname)\n",
      "File \u001B[0;32m~/Library/Caches/pypoetry/virtualenvs/quantus-nlp-D8UWuPj4-py3.9/lib/python3.9/site-packages/tensorflow_hub/keras_layer.py:239\u001B[0m, in \u001B[0;36mKerasLayer.call.<locals>.<lambda>\u001B[0;34m()\u001B[0m\n\u001B[1;32m    234\u001B[0m   \u001B[38;5;28;01melse\u001B[39;00m:\n\u001B[1;32m    235\u001B[0m     \u001B[38;5;66;03m# Behave like BatchNormalization. (Dropout is different, b/181839368.)\u001B[39;00m\n\u001B[1;32m    236\u001B[0m     training \u001B[38;5;241m=\u001B[39m \u001B[38;5;28;01mFalse\u001B[39;00m\n\u001B[1;32m    237\u001B[0m   result \u001B[38;5;241m=\u001B[39m smart_cond\u001B[38;5;241m.\u001B[39msmart_cond(training,\n\u001B[1;32m    238\u001B[0m                                  \u001B[38;5;28;01mlambda\u001B[39;00m: f(training\u001B[38;5;241m=\u001B[39m\u001B[38;5;28;01mTrue\u001B[39;00m),\n\u001B[0;32m--> 239\u001B[0m                                  \u001B[38;5;28;01mlambda\u001B[39;00m: \u001B[43mf\u001B[49m\u001B[43m(\u001B[49m\u001B[43mtraining\u001B[49m\u001B[38;5;241;43m=\u001B[39;49m\u001B[38;5;28;43;01mFalse\u001B[39;49;00m\u001B[43m)\u001B[49m)\n\u001B[1;32m    241\u001B[0m \u001B[38;5;66;03m# Unwrap dicts returned by signatures.\u001B[39;00m\n\u001B[1;32m    242\u001B[0m \u001B[38;5;28;01mif\u001B[39;00m \u001B[38;5;28mself\u001B[39m\u001B[38;5;241m.\u001B[39m_output_key:\n",
      "File \u001B[0;32m~/Library/Caches/pypoetry/virtualenvs/quantus-nlp-D8UWuPj4-py3.9/lib/python3.9/site-packages/tensorflow/python/saved_model/load.py:686\u001B[0m, in \u001B[0;36m_call_attribute\u001B[0;34m(instance, *args, **kwargs)\u001B[0m\n\u001B[1;32m    685\u001B[0m \u001B[38;5;28;01mdef\u001B[39;00m \u001B[38;5;21m_call_attribute\u001B[39m(instance, \u001B[38;5;241m*\u001B[39margs, \u001B[38;5;241m*\u001B[39m\u001B[38;5;241m*\u001B[39mkwargs):\n\u001B[0;32m--> 686\u001B[0m   \u001B[38;5;28;01mreturn\u001B[39;00m \u001B[43minstance\u001B[49m\u001B[38;5;241;43m.\u001B[39;49m\u001B[38;5;21;43m__call__\u001B[39;49m\u001B[43m(\u001B[49m\u001B[38;5;241;43m*\u001B[39;49m\u001B[43margs\u001B[49m\u001B[43m,\u001B[49m\u001B[43m \u001B[49m\u001B[38;5;241;43m*\u001B[39;49m\u001B[38;5;241;43m*\u001B[39;49m\u001B[43mkwargs\u001B[49m\u001B[43m)\u001B[49m\n",
      "File \u001B[0;32m~/Library/Caches/pypoetry/virtualenvs/quantus-nlp-D8UWuPj4-py3.9/lib/python3.9/site-packages/tensorflow/python/util/traceback_utils.py:150\u001B[0m, in \u001B[0;36mfilter_traceback.<locals>.error_handler\u001B[0;34m(*args, **kwargs)\u001B[0m\n\u001B[1;32m    148\u001B[0m filtered_tb \u001B[38;5;241m=\u001B[39m \u001B[38;5;28;01mNone\u001B[39;00m\n\u001B[1;32m    149\u001B[0m \u001B[38;5;28;01mtry\u001B[39;00m:\n\u001B[0;32m--> 150\u001B[0m   \u001B[38;5;28;01mreturn\u001B[39;00m \u001B[43mfn\u001B[49m\u001B[43m(\u001B[49m\u001B[38;5;241;43m*\u001B[39;49m\u001B[43margs\u001B[49m\u001B[43m,\u001B[49m\u001B[43m \u001B[49m\u001B[38;5;241;43m*\u001B[39;49m\u001B[38;5;241;43m*\u001B[39;49m\u001B[43mkwargs\u001B[49m\u001B[43m)\u001B[49m\n\u001B[1;32m    151\u001B[0m \u001B[38;5;28;01mexcept\u001B[39;00m \u001B[38;5;167;01mException\u001B[39;00m \u001B[38;5;28;01mas\u001B[39;00m e:\n\u001B[1;32m    152\u001B[0m   filtered_tb \u001B[38;5;241m=\u001B[39m _process_traceback_frames(e\u001B[38;5;241m.\u001B[39m__traceback__)\n",
      "File \u001B[0;32m~/Library/Caches/pypoetry/virtualenvs/quantus-nlp-D8UWuPj4-py3.9/lib/python3.9/site-packages/tensorflow/python/eager/def_function.py:915\u001B[0m, in \u001B[0;36mFunction.__call__\u001B[0;34m(self, *args, **kwds)\u001B[0m\n\u001B[1;32m    912\u001B[0m compiler \u001B[38;5;241m=\u001B[39m \u001B[38;5;124m\"\u001B[39m\u001B[38;5;124mxla\u001B[39m\u001B[38;5;124m\"\u001B[39m \u001B[38;5;28;01mif\u001B[39;00m \u001B[38;5;28mself\u001B[39m\u001B[38;5;241m.\u001B[39m_jit_compile \u001B[38;5;28;01melse\u001B[39;00m \u001B[38;5;124m\"\u001B[39m\u001B[38;5;124mnonXla\u001B[39m\u001B[38;5;124m\"\u001B[39m\n\u001B[1;32m    914\u001B[0m \u001B[38;5;28;01mwith\u001B[39;00m OptionalXlaContext(\u001B[38;5;28mself\u001B[39m\u001B[38;5;241m.\u001B[39m_jit_compile):\n\u001B[0;32m--> 915\u001B[0m   result \u001B[38;5;241m=\u001B[39m \u001B[38;5;28;43mself\u001B[39;49m\u001B[38;5;241;43m.\u001B[39;49m\u001B[43m_call\u001B[49m\u001B[43m(\u001B[49m\u001B[38;5;241;43m*\u001B[39;49m\u001B[43margs\u001B[49m\u001B[43m,\u001B[49m\u001B[43m \u001B[49m\u001B[38;5;241;43m*\u001B[39;49m\u001B[38;5;241;43m*\u001B[39;49m\u001B[43mkwds\u001B[49m\u001B[43m)\u001B[49m\n\u001B[1;32m    917\u001B[0m new_tracing_count \u001B[38;5;241m=\u001B[39m \u001B[38;5;28mself\u001B[39m\u001B[38;5;241m.\u001B[39mexperimental_get_tracing_count()\n\u001B[1;32m    918\u001B[0m without_tracing \u001B[38;5;241m=\u001B[39m (tracing_count \u001B[38;5;241m==\u001B[39m new_tracing_count)\n",
      "File \u001B[0;32m~/Library/Caches/pypoetry/virtualenvs/quantus-nlp-D8UWuPj4-py3.9/lib/python3.9/site-packages/tensorflow/python/eager/def_function.py:954\u001B[0m, in \u001B[0;36mFunction._call\u001B[0;34m(self, *args, **kwds)\u001B[0m\n\u001B[1;32m    951\u001B[0m \u001B[38;5;28mself\u001B[39m\u001B[38;5;241m.\u001B[39m_lock\u001B[38;5;241m.\u001B[39mrelease()\n\u001B[1;32m    952\u001B[0m \u001B[38;5;66;03m# In this case we have not created variables on the first call. So we can\u001B[39;00m\n\u001B[1;32m    953\u001B[0m \u001B[38;5;66;03m# run the first trace but we should fail if variables are created.\u001B[39;00m\n\u001B[0;32m--> 954\u001B[0m results \u001B[38;5;241m=\u001B[39m \u001B[38;5;28;43mself\u001B[39;49m\u001B[38;5;241;43m.\u001B[39;49m\u001B[43m_stateful_fn\u001B[49m\u001B[43m(\u001B[49m\u001B[38;5;241;43m*\u001B[39;49m\u001B[43margs\u001B[49m\u001B[43m,\u001B[49m\u001B[43m \u001B[49m\u001B[38;5;241;43m*\u001B[39;49m\u001B[38;5;241;43m*\u001B[39;49m\u001B[43mkwds\u001B[49m\u001B[43m)\u001B[49m\n\u001B[1;32m    955\u001B[0m \u001B[38;5;28;01mif\u001B[39;00m \u001B[38;5;28mself\u001B[39m\u001B[38;5;241m.\u001B[39m_created_variables \u001B[38;5;129;01mand\u001B[39;00m \u001B[38;5;129;01mnot\u001B[39;00m ALLOW_DYNAMIC_VARIABLE_CREATION:\n\u001B[1;32m    956\u001B[0m   \u001B[38;5;28;01mraise\u001B[39;00m \u001B[38;5;167;01mValueError\u001B[39;00m(\u001B[38;5;124m\"\u001B[39m\u001B[38;5;124mCreating variables on a non-first call to a function\u001B[39m\u001B[38;5;124m\"\u001B[39m\n\u001B[1;32m    957\u001B[0m                    \u001B[38;5;124m\"\u001B[39m\u001B[38;5;124m decorated with tf.function.\u001B[39m\u001B[38;5;124m\"\u001B[39m)\n",
      "File \u001B[0;32m~/Library/Caches/pypoetry/virtualenvs/quantus-nlp-D8UWuPj4-py3.9/lib/python3.9/site-packages/tensorflow/python/eager/function.py:2453\u001B[0m, in \u001B[0;36mFunction.__call__\u001B[0;34m(self, *args, **kwargs)\u001B[0m\n\u001B[1;32m   2450\u001B[0m \u001B[38;5;28;01mwith\u001B[39;00m \u001B[38;5;28mself\u001B[39m\u001B[38;5;241m.\u001B[39m_lock:\n\u001B[1;32m   2451\u001B[0m   (graph_function,\n\u001B[1;32m   2452\u001B[0m    filtered_flat_args) \u001B[38;5;241m=\u001B[39m \u001B[38;5;28mself\u001B[39m\u001B[38;5;241m.\u001B[39m_maybe_define_function(args, kwargs)\n\u001B[0;32m-> 2453\u001B[0m \u001B[38;5;28;01mreturn\u001B[39;00m \u001B[43mgraph_function\u001B[49m\u001B[38;5;241;43m.\u001B[39;49m\u001B[43m_call_flat\u001B[49m\u001B[43m(\u001B[49m\n\u001B[1;32m   2454\u001B[0m \u001B[43m    \u001B[49m\u001B[43mfiltered_flat_args\u001B[49m\u001B[43m,\u001B[49m\u001B[43m \u001B[49m\u001B[43mcaptured_inputs\u001B[49m\u001B[38;5;241;43m=\u001B[39;49m\u001B[43mgraph_function\u001B[49m\u001B[38;5;241;43m.\u001B[39;49m\u001B[43mcaptured_inputs\u001B[49m\u001B[43m)\u001B[49m\n",
      "File \u001B[0;32m~/Library/Caches/pypoetry/virtualenvs/quantus-nlp-D8UWuPj4-py3.9/lib/python3.9/site-packages/tensorflow/python/eager/function.py:1860\u001B[0m, in \u001B[0;36mConcreteFunction._call_flat\u001B[0;34m(self, args, captured_inputs, cancellation_manager)\u001B[0m\n\u001B[1;32m   1856\u001B[0m possible_gradient_type \u001B[38;5;241m=\u001B[39m gradients_util\u001B[38;5;241m.\u001B[39mPossibleTapeGradientTypes(args)\n\u001B[1;32m   1857\u001B[0m \u001B[38;5;28;01mif\u001B[39;00m (possible_gradient_type \u001B[38;5;241m==\u001B[39m gradients_util\u001B[38;5;241m.\u001B[39mPOSSIBLE_GRADIENT_TYPES_NONE\n\u001B[1;32m   1858\u001B[0m     \u001B[38;5;129;01mand\u001B[39;00m executing_eagerly):\n\u001B[1;32m   1859\u001B[0m   \u001B[38;5;66;03m# No tape is watching; skip to running the function.\u001B[39;00m\n\u001B[0;32m-> 1860\u001B[0m   \u001B[38;5;28;01mreturn\u001B[39;00m \u001B[38;5;28mself\u001B[39m\u001B[38;5;241m.\u001B[39m_build_call_outputs(\u001B[38;5;28;43mself\u001B[39;49m\u001B[38;5;241;43m.\u001B[39;49m\u001B[43m_inference_function\u001B[49m\u001B[38;5;241;43m.\u001B[39;49m\u001B[43mcall\u001B[49m\u001B[43m(\u001B[49m\n\u001B[1;32m   1861\u001B[0m \u001B[43m      \u001B[49m\u001B[43mctx\u001B[49m\u001B[43m,\u001B[49m\u001B[43m \u001B[49m\u001B[43margs\u001B[49m\u001B[43m,\u001B[49m\u001B[43m \u001B[49m\u001B[43mcancellation_manager\u001B[49m\u001B[38;5;241;43m=\u001B[39;49m\u001B[43mcancellation_manager\u001B[49m\u001B[43m)\u001B[49m)\n\u001B[1;32m   1862\u001B[0m forward_backward \u001B[38;5;241m=\u001B[39m \u001B[38;5;28mself\u001B[39m\u001B[38;5;241m.\u001B[39m_select_forward_and_backward_functions(\n\u001B[1;32m   1863\u001B[0m     args,\n\u001B[1;32m   1864\u001B[0m     possible_gradient_type,\n\u001B[1;32m   1865\u001B[0m     executing_eagerly)\n\u001B[1;32m   1866\u001B[0m forward_function, args_with_tangents \u001B[38;5;241m=\u001B[39m forward_backward\u001B[38;5;241m.\u001B[39mforward()\n",
      "File \u001B[0;32m~/Library/Caches/pypoetry/virtualenvs/quantus-nlp-D8UWuPj4-py3.9/lib/python3.9/site-packages/tensorflow/python/eager/function.py:497\u001B[0m, in \u001B[0;36m_EagerDefinedFunction.call\u001B[0;34m(self, ctx, args, cancellation_manager)\u001B[0m\n\u001B[1;32m    495\u001B[0m \u001B[38;5;28;01mwith\u001B[39;00m _InterpolateFunctionError(\u001B[38;5;28mself\u001B[39m):\n\u001B[1;32m    496\u001B[0m   \u001B[38;5;28;01mif\u001B[39;00m cancellation_manager \u001B[38;5;129;01mis\u001B[39;00m \u001B[38;5;28;01mNone\u001B[39;00m:\n\u001B[0;32m--> 497\u001B[0m     outputs \u001B[38;5;241m=\u001B[39m \u001B[43mexecute\u001B[49m\u001B[38;5;241;43m.\u001B[39;49m\u001B[43mexecute\u001B[49m\u001B[43m(\u001B[49m\n\u001B[1;32m    498\u001B[0m \u001B[43m        \u001B[49m\u001B[38;5;28;43mstr\u001B[39;49m\u001B[43m(\u001B[49m\u001B[38;5;28;43mself\u001B[39;49m\u001B[38;5;241;43m.\u001B[39;49m\u001B[43msignature\u001B[49m\u001B[38;5;241;43m.\u001B[39;49m\u001B[43mname\u001B[49m\u001B[43m)\u001B[49m\u001B[43m,\u001B[49m\n\u001B[1;32m    499\u001B[0m \u001B[43m        \u001B[49m\u001B[43mnum_outputs\u001B[49m\u001B[38;5;241;43m=\u001B[39;49m\u001B[38;5;28;43mself\u001B[39;49m\u001B[38;5;241;43m.\u001B[39;49m\u001B[43m_num_outputs\u001B[49m\u001B[43m,\u001B[49m\n\u001B[1;32m    500\u001B[0m \u001B[43m        \u001B[49m\u001B[43minputs\u001B[49m\u001B[38;5;241;43m=\u001B[39;49m\u001B[43margs\u001B[49m\u001B[43m,\u001B[49m\n\u001B[1;32m    501\u001B[0m \u001B[43m        \u001B[49m\u001B[43mattrs\u001B[49m\u001B[38;5;241;43m=\u001B[39;49m\u001B[43mattrs\u001B[49m\u001B[43m,\u001B[49m\n\u001B[1;32m    502\u001B[0m \u001B[43m        \u001B[49m\u001B[43mctx\u001B[49m\u001B[38;5;241;43m=\u001B[39;49m\u001B[43mctx\u001B[49m\u001B[43m)\u001B[49m\n\u001B[1;32m    503\u001B[0m   \u001B[38;5;28;01melse\u001B[39;00m:\n\u001B[1;32m    504\u001B[0m     outputs \u001B[38;5;241m=\u001B[39m execute\u001B[38;5;241m.\u001B[39mexecute_with_cancellation(\n\u001B[1;32m    505\u001B[0m         \u001B[38;5;28mstr\u001B[39m(\u001B[38;5;28mself\u001B[39m\u001B[38;5;241m.\u001B[39msignature\u001B[38;5;241m.\u001B[39mname),\n\u001B[1;32m    506\u001B[0m         num_outputs\u001B[38;5;241m=\u001B[39m\u001B[38;5;28mself\u001B[39m\u001B[38;5;241m.\u001B[39m_num_outputs,\n\u001B[0;32m   (...)\u001B[0m\n\u001B[1;32m    509\u001B[0m         ctx\u001B[38;5;241m=\u001B[39mctx,\n\u001B[1;32m    510\u001B[0m         cancellation_manager\u001B[38;5;241m=\u001B[39mcancellation_manager)\n",
      "File \u001B[0;32m~/Library/Caches/pypoetry/virtualenvs/quantus-nlp-D8UWuPj4-py3.9/lib/python3.9/site-packages/tensorflow/python/eager/execute.py:54\u001B[0m, in \u001B[0;36mquick_execute\u001B[0;34m(op_name, num_outputs, inputs, attrs, ctx, name)\u001B[0m\n\u001B[1;32m     52\u001B[0m \u001B[38;5;28;01mtry\u001B[39;00m:\n\u001B[1;32m     53\u001B[0m   ctx\u001B[38;5;241m.\u001B[39mensure_initialized()\n\u001B[0;32m---> 54\u001B[0m   tensors \u001B[38;5;241m=\u001B[39m \u001B[43mpywrap_tfe\u001B[49m\u001B[38;5;241;43m.\u001B[39;49m\u001B[43mTFE_Py_Execute\u001B[49m\u001B[43m(\u001B[49m\u001B[43mctx\u001B[49m\u001B[38;5;241;43m.\u001B[39;49m\u001B[43m_handle\u001B[49m\u001B[43m,\u001B[49m\u001B[43m \u001B[49m\u001B[43mdevice_name\u001B[49m\u001B[43m,\u001B[49m\u001B[43m \u001B[49m\u001B[43mop_name\u001B[49m\u001B[43m,\u001B[49m\n\u001B[1;32m     55\u001B[0m \u001B[43m                                      \u001B[49m\u001B[43minputs\u001B[49m\u001B[43m,\u001B[49m\u001B[43m \u001B[49m\u001B[43mattrs\u001B[49m\u001B[43m,\u001B[49m\u001B[43m \u001B[49m\u001B[43mnum_outputs\u001B[49m\u001B[43m)\u001B[49m\n\u001B[1;32m     56\u001B[0m \u001B[38;5;28;01mexcept\u001B[39;00m core\u001B[38;5;241m.\u001B[39m_NotOkStatusException \u001B[38;5;28;01mas\u001B[39;00m e:\n\u001B[1;32m     57\u001B[0m   \u001B[38;5;28;01mif\u001B[39;00m name \u001B[38;5;129;01mis\u001B[39;00m \u001B[38;5;129;01mnot\u001B[39;00m \u001B[38;5;28;01mNone\u001B[39;00m:\n",
      "\u001B[0;31mKeyboardInterrupt\u001B[0m: "
     ]
    }
   ],
   "source": [
    "widget = notebook.LitWidget(models, datasets)\n",
    "widget.render()"
   ],
   "metadata": {
    "collapsed": false,
    "pycharm": {
     "name": "#%%\n"
    }
   }
  }
 ],
 "metadata": {
  "kernelspec": {
   "display_name": "Python 3",
   "language": "python",
   "name": "python3"
  },
  "language_info": {
   "codemirror_mode": {
    "name": "ipython",
    "version": 2
   },
   "file_extension": ".py",
   "mimetype": "text/x-python",
   "name": "python",
   "nbconvert_exporter": "python",
   "pygments_lexer": "ipython2",
   "version": "2.7.6"
  }
 },
 "nbformat": 4,
 "nbformat_minor": 0
}